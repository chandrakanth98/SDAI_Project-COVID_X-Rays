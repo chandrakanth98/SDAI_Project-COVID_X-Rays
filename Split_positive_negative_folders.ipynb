{
 "cells": [
  {
   "cell_type": "code",
   "execution_count": null,
   "id": "cbfba8cc",
   "metadata": {},
   "outputs": [],
   "source": [
    "import os\n",
    "import shutil\n",
    "import csv\n",
    "\n"
   ]
  },
  {
   "cell_type": "code",
   "execution_count": null,
   "id": "8db958cc",
   "metadata": {},
   "outputs": [],
   "source": [
    "keys={}\n",
    "with open(r'C:\\Users\\am1885\\Desktop\\Project 1\\TrainTest\\Book1.csv', 'r') as f:\n",
    "    reader = csv.reader(f, delimiter=',')\n",
    "    for rowDict in reader:\n",
    "        keys[rowDict[0]] = rowDict[1]\n",
    "        print(rowDict)  # if desired\n",
    "\n"
   ]
  },
  {
   "cell_type": "code",
   "execution_count": null,
   "id": "59f80425",
   "metadata": {},
   "outputs": [],
   "source": [
    "valid_files = set(keys.values())  # file names found in csv\n",
    "dir_src = r'C:\\Users\\am1885\\Desktop\\Project 1\\TrainTest\\Negatives'\n",
    "dir_dst = r'C:\\Users\\am1885\\Desktop\\Project 1\\TrainTest\\Positives'\n",
    "for file in os.listdir(dir_src):\n",
    "    if file in valid_files:\n",
    "        src_file = os.path.join(dir_src, file)\n",
    "        dst_file = os.path.join(dir_dst, file)\n",
    "        shutil.move(src_file, dst_file)"
   ]
  },
  {
   "cell_type": "code",
   "execution_count": null,
   "id": "8b17ffb8",
   "metadata": {},
   "outputs": [],
   "source": []
  }
 ],
 "metadata": {
  "kernelspec": {
   "display_name": "Python 3",
   "language": "python",
   "name": "python3"
  },
  "language_info": {
   "codemirror_mode": {
    "name": "ipython",
    "version": 3
   },
   "file_extension": ".py",
   "mimetype": "text/x-python",
   "name": "python",
   "nbconvert_exporter": "python",
   "pygments_lexer": "ipython3",
   "version": "3.8.8"
  }
 },
 "nbformat": 4,
 "nbformat_minor": 5
}
