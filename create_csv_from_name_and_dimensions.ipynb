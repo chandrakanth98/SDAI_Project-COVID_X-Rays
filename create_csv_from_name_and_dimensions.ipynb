{
 "cells": [
  {
   "cell_type": "code",
   "execution_count": 6,
   "id": "79f55354",
   "metadata": {},
   "outputs": [],
   "source": [
    "import os\n",
    "from PIL import Image"
   ]
  },
  {
   "cell_type": "markdown",
   "id": "4c7ab268",
   "metadata": {},
   "source": [
    "This code will print a table with columns named: file, width, and height"
   ]
  },
  {
   "cell_type": "code",
   "execution_count": 21,
   "id": "fb157518",
   "metadata": {},
   "outputs": [
    {
     "name": "stdout",
     "output_type": "stream",
     "text": [
      "08b1c32d-e070-4a2c-9d75-f41055b7273b.png 1024 1024\n",
      "1a2b6a01-88f6-4907-adef-f396a00a15b4.png 1024 1024\n",
      "2afaf9b4-664c-4c87-b9f5-4e411789da5d.png 1024 1024\n",
      "47a15caf-d139-4fa3-956d-6f8afa5ac376.png 1024 1024\n",
      "505e3473-fe7f-4c3e-8684-b7f9ecf1d052.png 1024 1024\n",
      "6b3bdbc31f65230b8cdcc3cef5f8ba8a-40ac-0.jpg 610 440\n",
      "98c24e39.jpg 4248 3480\n",
      "a6611942-c69e-4752-afa3-9b3411c1fbdb.png 1024 1024\n",
      "b2368b39-bba3-4458-87ed-70c19cc5917f.png 1024 1024\n",
      "b5c9f691-020c-4f70-bac8-25b067f0b357.png 1024 1024\n",
      "be026429-a687-4339-9260-64690cd3ed1d.png 1024 1024\n",
      "COVID(945).png 331 331\n",
      "DX.1.2.840.113564.1722810162.20200414235332189450.1203801020003.png 3050 2539\n",
      "DX.1.2.840.113564.1722810162.20200419111851705930.1203801020003.png 3050 2539\n",
      "f8ba25b1-23c2-4f71-bdb3-3850e40f5426.png 1024 1024\n",
      "MIDRC-RICORD-1C-419639-001122-40057-1.png 2917 2518\n",
      "MIDRC-RICORD-1C-419639-001336-07436-0.png 2667 2800\n",
      "MIDRC-RICORD-1C-419639-002887-24181-0.png 3027 2516\n",
      "MIDRC-RICORD-1C-419639-003087-04860-1.png 3032 2520\n",
      "MIDRC-RICORD-1C-419639-003112-56119-1.png 3408 2562\n",
      "MIDRC-RICORD-1C-419639-003154-73840-0.png 3408 2800\n",
      "MIDRC-RICORD-1C-419639-003235-85590-0.png 3408 2800\n",
      "MIDRC-RICORD-1C-440808-000008-8.394-0.png 2661 2516\n",
      "MIDRC-RICORD-1C-440808-000014-8.241-0.png 3032 2520\n",
      "MIDRC-RICORD-1C-SITE2-000085-83466-0.png 3480 4240\n",
      "MIDRC-RICORD-1C-SITE2-000123-76427-1.png 3480 4240\n",
      "MIDRC-RICORD-1C-SITE2-000123-77283-0.png 4240 3480\n",
      "MIDRC-RICORD-1C-SITE2-000163-64983-0.png 4240 3480\n",
      "MIDRC-RICORD-1C-SITE2-000198-45577-0.png 3480 4240\n",
      "MIDRC-RICORD-1C-SITE2-000199-31568-0.png 4240 3480\n",
      "MIDRC-RICORD-1C-SITE2-000268-51175-0.png 4240 3480\n",
      "MIDRC-RICORD-1C-SITE2-000269-36236-0.png 3037 2630\n",
      "post-intubuation-pneumomediastium-and-pneumothorax-background-covid-19-pneumonia-day7.jpg 2412 2244\n",
      "ryct.2020003.fig2-a.png 157 156\n",
      "yxppt-2020-02-19_00-51-27_287214-day10.jpg 333 325\n"
     ]
    }
   ],
   "source": [
    "\n",
    "\n",
    "f = r'C:\\Users\\am1885\\Desktop\\Project1\\trainsample'  #from this source\n",
    "os.listdir(f)                                        #to list directory\n",
    "for file in os.listdir(f):                           #for files in this directory\n",
    "    f_img = f+\"/\"+file                               #to get the name of the image\n",
    "    img = Image.open(f_img)                          #create variable image\n",
    "    width, height = img.size                         #to get width and height\n",
    "    print(file, width, height)                       #to print name, width, height"
   ]
  },
  {
   "cell_type": "code",
   "execution_count": 24,
   "id": "0a4a3a25",
   "metadata": {},
   "outputs": [
    {
     "ename": "SyntaxError",
     "evalue": "(unicode error) 'unicodeescape' codec can't decode bytes in position 2-3: truncated \\UXXXXXXXX escape (<ipython-input-24-9b9271c2b694>, line 10)",
     "output_type": "error",
     "traceback": [
      "\u001b[1;36m  File \u001b[1;32m\"<ipython-input-24-9b9271c2b694>\"\u001b[1;36m, line \u001b[1;32m10\u001b[0m\n\u001b[1;33m    csv_path = 'C:\\Users\\am1885\\Desktop\\Project1'\u001b[0m\n\u001b[1;37m               ^\u001b[0m\n\u001b[1;31mSyntaxError\u001b[0m\u001b[1;31m:\u001b[0m (unicode error) 'unicodeescape' codec can't decode bytes in position 2-3: truncated \\UXXXXXXXX escape\n"
     ]
    }
   ],
   "source": [
    "# Write to csv file\n",
    "    \n",
    "    \n",
    "data = [file, width, height]\n",
    "    \n",
    "    # Make csv header\n",
    "header = ['file name', 'width', 'height']\n",
    "\n",
    "    # File path\n",
    "csv_path = 'C:\\Users\\am1885\\Desktop\\Project1'\n",
    "\n"
   ]
  },
  {
   "cell_type": "code",
   "execution_count": null,
   "id": "d0a2e85b",
   "metadata": {},
   "outputs": [],
   "source": []
  }
 ],
 "metadata": {
  "kernelspec": {
   "display_name": "Python 3",
   "language": "python",
   "name": "python3"
  },
  "language_info": {
   "codemirror_mode": {
    "name": "ipython",
    "version": 3
   },
   "file_extension": ".py",
   "mimetype": "text/x-python",
   "name": "python",
   "nbconvert_exporter": "python",
   "pygments_lexer": "ipython3",
   "version": "3.8.8"
  }
 },
 "nbformat": 4,
 "nbformat_minor": 5
}
