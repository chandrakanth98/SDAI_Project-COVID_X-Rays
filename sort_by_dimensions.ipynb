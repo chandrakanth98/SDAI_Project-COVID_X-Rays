{
 "cells": [
  {
   "cell_type": "code",
   "execution_count": null,
   "id": "75ddd851",
   "metadata": {},
   "outputs": [],
   "source": [
    "import os\n",
    "import shutil\n",
    "import csv"
   ]
  },
  {
   "cell_type": "code",
   "execution_count": null,
   "id": "f46f11db",
   "metadata": {},
   "outputs": [],
   "source": [
    "keys={}\n",
    "with open(r'original csv path', 'r') as f:\n",
    "    reader = csv.reader(f, delimiter=',')\n",
    "    for rowDict in reader:\n",
    "        keys[rowDict[0]] = rowDict[1]\n",
    "        print(rowDict)  # if desired"
   ]
  },
  {
   "cell_type": "code",
   "execution_count": null,
   "id": "9ce4002b",
   "metadata": {},
   "outputs": [],
   "source": [
    "valid_files = set(keys.values())  # file names found in csv\n",
    "dir_src = r'images source path'\n",
    "dir_dst = r'destination path'\n",
    "for file in os.listdir(dir_src):\n",
    "    if file in valid_files:\n",
    "        src_file = os.path.join(dir_src, file)\n",
    "        dst_file = os.path.join(dir_dst, file)\n",
    "        shutil.move(src_file, dst_file)"
   ]
  }
 ],
 "metadata": {
  "kernelspec": {
   "display_name": "Python 3",
   "language": "python",
   "name": "python3"
  },
  "language_info": {
   "codemirror_mode": {
    "name": "ipython",
    "version": 3
   },
   "file_extension": ".py",
   "mimetype": "text/x-python",
   "name": "python",
   "nbconvert_exporter": "python",
   "pygments_lexer": "ipython3",
   "version": "3.8.8"
  }
 },
 "nbformat": 4,
 "nbformat_minor": 5
}
