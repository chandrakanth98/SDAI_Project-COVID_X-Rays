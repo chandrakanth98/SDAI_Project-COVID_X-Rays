{
 "cells": [
  {
   "cell_type": "code",
   "execution_count": null,
   "id": "6163f3ed",
   "metadata": {},
   "outputs": [],
   "source": [
    "import PIL\n",
    "import os\n",
    "from PIL import Image"
   ]
  },
  {
   "cell_type": "code",
   "execution_count": null,
   "id": "e069d420",
   "metadata": {},
   "outputs": [],
   "source": [
    "# For Cropping\n",
    "f = r'C:\\Users\\am1885\\Desktop\\Project 1\\TrainTest\\cropped'\n",
    "os.listdir(f)\n",
    "for file in os.listdir(f):\n",
    "    f_img = f+\"/\"+file      # used to get the name of the image\n",
    "    img = Image.open(f_img)        \n",
    "    img = img.resize((300,300))\n",
    "    img.save(f_img)"
   ]
  },
  {
   "cell_type": "markdown",
   "id": "eb1e9afc",
   "metadata": {},
   "source": [
    "Clone the folder 5 times. Rename them respectively. "
   ]
  },
  {
   "cell_type": "code",
   "execution_count": null,
   "id": "91039e1c",
   "metadata": {},
   "outputs": [],
   "source": [
    " # 270 degree rotation\n",
    "f = r'C:\\Users\\am1885\\Desktop\\Project 1\\TrainTest\\rotated270' \n",
    "os.listdir(f)\n",
    "for file in os.listdir(f):\n",
    "    f_img = f+\"/\"+file      # used to get the name of the image\n",
    "    img = Image.open(f_img)\n",
    "  \n",
    "    # 270 degree rotation\n",
    "    img = img.transpose(Image.ROTATE_270)\n",
    "    img.save(f_img)"
   ]
  },
  {
   "cell_type": "code",
   "execution_count": null,
   "id": "dfc8fdb6",
   "metadata": {},
   "outputs": [],
   "source": [
    "# Flip horizontally\n",
    "f = r'C:\\Users\\am1885\\Desktop\\Project 1\\TrainTest\\hori_flipped'\n",
    "os.listdir(f)\n",
    "for file in os.listdir(f):\n",
    "    f_img = f+\"/\"+file      # used to get the name of the image\n",
    "    img = Image.open(f_img)\n",
    "    img = img.transpose(Image.FLIP_LEFT_RIGHT)\n",
    "    img.save(f_img)\n"
   ]
  },
  {
   "cell_type": "code",
   "execution_count": null,
   "id": "c812e9eb",
   "metadata": {},
   "outputs": [],
   "source": [
    "# Flip vertically\n",
    "f = r'C:\\Users\\am1885\\Desktop\\Project 1\\TrainTest\\vert_flipped'  \n",
    "os.listdir(f)\n",
    "for file in os.listdir(f):\n",
    "    f_img = f+\"/\"+file      # used to get the name of the image\n",
    "    img = Image.open(f_img)\n",
    "    img = img.transpose(Image.FLIP_TOP_BOTTOM)\n",
    "    img.save(f_img)\n"
   ]
  },
  {
   "cell_type": "code",
   "execution_count": null,
   "id": "1c11ab2a",
   "metadata": {},
   "outputs": [],
   "source": [
    "# 90 degree rotation\n",
    "f = r'C:\\Users\\am1885\\Desktop\\Project 1\\TrainTest\\rotated90'  \n",
    "os.listdir(f)\n",
    "for file in os.listdir(f):\n",
    "    f_img = f+\"/\"+file      # used to get the name of the image\n",
    "    img = Image.open(f_img)\n",
    "    img = img.transpose(Image.ROTATE_90)\n",
    "    img.save(f_img"
   ]
  },
  {
   "cell_type": "code",
   "execution_count": null,
   "id": "ad15d5ca",
   "metadata": {},
   "outputs": [],
   "source": [
    "# 180 degree rotation\n",
    "f = r'C:\\Users\\am1885\\Desktop\\Project 1\\TrainTest\\rotated180'\n",
    "os.listdir(f)\n",
    "for file in os.listdir(f):\n",
    "    f_img = f+\"/\"+file      # used to get the name of the image\n",
    "    img = Image.open(f_img)\n",
    "    img = img.transpose(Image.ROTATE_180)\n",
    "    img.save(f_img)"
   ]
  }
 ],
 "metadata": {
  "kernelspec": {
   "display_name": "Python 3",
   "language": "python",
   "name": "python3"
  },
  "language_info": {
   "codemirror_mode": {
    "name": "ipython",
    "version": 3
   },
   "file_extension": ".py",
   "mimetype": "text/x-python",
   "name": "python",
   "nbconvert_exporter": "python",
   "pygments_lexer": "ipython3",
   "version": "3.8.8"
  }
 },
 "nbformat": 4,
 "nbformat_minor": 5
}
