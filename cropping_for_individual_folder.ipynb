{
 "cells": [
  {
   "cell_type": "code",
   "execution_count": 7,
   "id": "4f9f1fed",
   "metadata": {},
   "outputs": [],
   "source": [
    "import os\n",
    "from PIL import Image"
   ]
  },
  {
   "cell_type": "code",
   "execution_count": 14,
   "id": "5d42b2d2",
   "metadata": {},
   "outputs": [],
   "source": [
    "f = r'C:\\Users\\am1885\\Desktop\\Project1\\New folder\\uncropped'  #from this source\n",
    "os.listdir(f) \n",
    "#to list directory\n",
    "for file in os.listdir(f):                           #for files in this directory\n",
    "    f_img = f+\"/\"+file                               #to get the name of the image\n",
    "    img = Image.open(f_img)                          #create variable image\n",
    "    croppedimg = img.crop((200, 250, 800, 750))\n",
    "\n",
    "    croppedimg.save(file)"
   ]
  },
  {
   "cell_type": "code",
   "execution_count": null,
   "id": "dac11d9f",
   "metadata": {},
   "outputs": [],
   "source": []
  }
 ],
 "metadata": {
  "kernelspec": {
   "display_name": "Python 3",
   "language": "python",
   "name": "python3"
  },
  "language_info": {
   "codemirror_mode": {
    "name": "ipython",
    "version": 3
   },
   "file_extension": ".py",
   "mimetype": "text/x-python",
   "name": "python",
   "nbconvert_exporter": "python",
   "pygments_lexer": "ipython3",
   "version": "3.8.8"
  }
 },
 "nbformat": 4,
 "nbformat_minor": 5
}
